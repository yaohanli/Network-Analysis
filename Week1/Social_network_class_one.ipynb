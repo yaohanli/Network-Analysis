{
 "cells": [
  {
   "cell_type": "code",
   "execution_count": null,
   "metadata": {},
   "outputs": [],
   "source": [
    "import networkx as nx"
   ]
  },
  {
   "cell_type": "code",
   "execution_count": null,
   "metadata": {},
   "outputs": [],
   "source": [
    "# 1--undirected graph\n",
    "G=nx.Graph()\n",
    "G.add_edge('A', 'B')\n",
    "G.add_edge('B', 'C')"
   ]
  },
  {
   "cell_type": "code",
   "execution_count": null,
   "metadata": {},
   "outputs": [],
   "source": [
    "# 2--directed graph:\n",
    "G = nx.DiGraph()\n",
    "G.add_edge('A', 'B')\n",
    "G.add_edge('B', 'C')\n"
   ]
  },
  {
   "cell_type": "code",
   "execution_count": null,
   "metadata": {},
   "outputs": [],
   "source": [
    "# 3--weighted graph: not all relationships are equal\n",
    "# where edges are assigned to a (numeric) weight\n",
    "G = nx.Graph()\n",
    "G.add_edge('A', 'B', weight = 6)\n",
    "G.add_edge('B', 'C', weight = 13)"
   ]
  },
  {
   "cell_type": "code",
   "execution_count": null,
   "metadata": {},
   "outputs": [],
   "source": [
    "# 4--signed networks: networks carry friendship and antagonism based on conflit or disaggrement\n",
    "# edges are signed possitive or negative\n",
    "G = nx.Graph()\n",
    "G.add_edge('A', 'B', sign='+')\n",
    "G.add_edge('B','C', sign='-')"
   ]
  },
  {
   "cell_type": "code",
   "execution_count": null,
   "metadata": {},
   "outputs": [],
   "source": [
    "# 5--other edge attributes\n",
    "G = nx.Graph()\n",
    "G.add_edge('A', 'B', relation = 'friend')\n",
    "G.add_edge('B', 'C', relation = 'cowoker')\n",
    "G.add_edge('D', 'E', relation = 'family')"
   ]
  },
  {
   "cell_type": "code",
   "execution_count": null,
   "metadata": {},
   "outputs": [],
   "source": [
    "# 6--Multigraphs: multiple edges can connect to the same nodes (parallel edges)\n",
    "G = nx.MultiGraph()\n",
    "G.add_edge('A', 'B', relation = 'friend')\n",
    "G.add_edge('A', 'B', relation = 'neighbor')\n",
    "G.add_edge('D', 'E', relation = 'coworker')\n",
    "G.add_edge('D', 'E', relation = 'family')"
   ]
  },
  {
   "cell_type": "code",
   "execution_count": null,
   "metadata": {},
   "outputs": [],
   "source": [
    "# 7--edge attributes\n",
    "G=nx.Graph()\n",
    "G.add_edge('A', 'B', weight = 6, relation = 'family')\n",
    "G.add_edge('B', 'C', weight = 13, relation = 'friend')"
   ]
  },
  {
   "cell_type": "code",
   "execution_count": null,
   "metadata": {},
   "outputs": [],
   "source": [
    "G.edges()\n"
   ]
  },
  {
   "cell_type": "code",
   "execution_count": null,
   "metadata": {},
   "outputs": [],
   "source": [
    "G.edges(data = 'relation')\n"
   ]
  },
  {
   "cell_type": "code",
   "execution_count": null,
   "metadata": {},
   "outputs": [],
   "source": [
    "G.edge['A']['B']['weight'] #dictionary of attributes of edge (A,B)"
   ]
  },
  {
   "cell_type": "code",
   "execution_count": null,
   "metadata": {},
   "outputs": [],
   "source": [
    "# with directed networks\n",
    "G=nx.DiGraph()\n",
    "G.add_edge('A', 'B', weight = 6, relation = 'family')\n",
    "G.add_edge('B', 'C', weight = 13, relation = 'friend')\n",
    "G.edge['C']['B']['weight']"
   ]
  },
  {
   "cell_type": "code",
   "execution_count": null,
   "metadata": {},
   "outputs": [],
   "source": [
    "## Multi edgeds attributes:\n",
    "G = nx.MultiGraph()\n",
    "G.add_edge('A', 'B', relation = 'friend')\n",
    "G.add_edge('A', 'B', relation = 'neighbor')\n",
    "G.add_edge('D', 'E', relation = 'coworker')\n",
    "G.add_edge('D', 'E', relation = 'family')\n",
    "G.edge['A']['B'] # one dictionary of attributes per (A,B) edge\n",
    "G.edge['A']['B'][0]['weight'] # since this is a multi edge, there are two edges between (AB), need to specific which edge do you want"
   ]
  },
  {
   "cell_type": "code",
   "execution_count": null,
   "metadata": {},
   "outputs": [],
   "source": [
    "# 8--directed multigraph\n",
    "G=nx.MultiDiGraph()"
   ]
  },
  {
   "cell_type": "code",
   "execution_count": null,
   "metadata": {},
   "outputs": [],
   "source": [
    "import networkx as nx\n",
    "\n",
    "G=nx.MultiDiGraph()\n",
    "\n",
    "G.add_edge('John', 'Ana', weight= 3, relation = 'siblings')\n",
    "G.add_edge('Ana', 'David', weight= 4, relation = 'cousins')\n",
    "G.add_edge('Ana', 'Bob', weight= 1, relation = 'friends')\n",
    "G.add_edge('Ana', 'Bob', weight= 1, relation = 'neighbors')\n",
    "\n",
    "print( G.edge['Bob']['Ana'][1]['relation'] )\n"
   ]
  },
  {
   "cell_type": "code",
   "execution_count": null,
   "metadata": {},
   "outputs": [],
   "source": [
    "## adding node attributes\n",
    "G=nx.Graph()\n",
    "G.add_edge('A', 'B', weight = 6, relation = 'friends')\n",
    "G.add_edge('B', 'C', weight = 13, relation = 'family')\n",
    "G.add_node('A', role = 'trader')\n",
    "G.add_node('B', role = 'trader')\n",
    "G.add_node('C', role = 'manager')\n",
    "G.nodes() #get access to the list of the nodes"
   ]
  },
  {
   "cell_type": "code",
   "execution_count": 4,
   "metadata": {},
   "outputs": [],
   "source": [
    "from networkx.algorithms import bipartite #a bipartite graph cannot contain a cycle of an odd number of nodes\n",
    "import networkx as nx\n",
    "B=nx.Graph()\n",
    "B.add_nodes_from(['A','B','C','D','E'], bipartite=0) #lable one set of nodes 0\n",
    "# this plot is gonna be the one side of the bipartite, i.e, left side\n",
    "B.add_nodes_from([1,2,3,4], bipartite=1) # lable the other set of nodes 1, this is the right side"
   ]
  },
  {
   "cell_type": "code",
   "execution_count": null,
   "metadata": {},
   "outputs": [],
   "source": [
    "## projected graphs\n",
    "B=nx.Graph()\n",
    "B.add_edge_from([('A',1),('B',1),('C',1),('D',1),('H',1),('B',2),('C',2),('E',2),('G',2),('E',3),('H',3),('I',4),('J',4)])\n",
    "X=set([1,2,3,4]) ## the team, the right hand side of the bipartite\n",
    "P=bipartite.projected_graph(B,X)\n",
    "P=bipartite.weighted_projected_graph(B,X)"
   ]
  }
 ],
 "metadata": {
  "kernelspec": {
   "display_name": "Python 3",
   "language": "python",
   "name": "python3"
  },
  "language_info": {
   "codemirror_mode": {
    "name": "ipython",
    "version": 3
   },
   "file_extension": ".py",
   "mimetype": "text/x-python",
   "name": "python",
   "nbconvert_exporter": "python",
   "pygments_lexer": "ipython3",
   "version": "3.7.0"
  }
 },
 "nbformat": 4,
 "nbformat_minor": 2
}
